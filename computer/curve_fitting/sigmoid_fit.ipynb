{
 "metadata": {
  "name": "",
  "signature": "sha256:23db148eec29a9dad03409abeb27c4ccc64f2073779774f955c05acfaef6818f"
 },
 "nbformat": 3,
 "nbformat_minor": 0,
 "worksheets": [
  {
   "cells": [
    {
     "cell_type": "heading",
     "level": 1,
     "metadata": {},
     "source": [
      "Ajuste de sigm\u00f3ide"
     ]
    },
    {
     "cell_type": "markdown",
     "metadata": {},
     "source": [
      "O que vamos precisar:"
     ]
    },
    {
     "cell_type": "code",
     "collapsed": false,
     "input": [
      "from numpy import sqrt, pi, exp, linspace, diag\n",
      "from numpy.random import rand\n",
      "from scipy.optimize import curve_fit\n",
      "from matplotlib.pyplot import plot, scatter\n",
      "%matplotlib inline "
     ],
     "language": "python",
     "metadata": {},
     "outputs": [],
     "prompt_number": 74
    },
    {
     "cell_type": "heading",
     "level": 2,
     "metadata": {},
     "source": [
      "O modelo"
     ]
    },
    {
     "cell_type": "markdown",
     "metadata": {},
     "source": [
      "Primeiramente, vamos definir a fun\u00e7\u00e3o sigm\u00f3ide:\n",
      "$$\\sigma(x) = a + \\frac{1}{1+\\exp\\left[-b(x-c)\\right]}$$\n",
      "\n",
      "Note que $\\sigma(x)$ \u00e9 parametrizada por $a$, $b$ e $c$, que quereremos encontrar com o ajuste de m\u00ednimos quadrados."
     ]
    },
    {
     "cell_type": "code",
     "collapsed": false,
     "input": [
      "def sigmoid (x, a, b, c):\n",
      "    return a + 1 / (1 + exp(-b*(x-c)))"
     ],
     "language": "python",
     "metadata": {},
     "outputs": [],
     "prompt_number": 75
    },
    {
     "cell_type": "heading",
     "level": 2,
     "metadata": {},
     "source": [
      "Conjunto de amostragem"
     ]
    },
    {
     "cell_type": "markdown",
     "metadata": {},
     "source": [
      "Agora vamos criar um conjunto de amostragem $\\{(x_1,y_1), (x_2,y_2), \\ldots (x_N,y_N)\\}$, que emula um conjunto equivalente obtido por algum processo de medida. Como queremos que essa amostragem seja modelada por uma fun\u00e7\u00e3o sigm\u00f3ide, vamos utilizar $\\sigma(x)$ definida acima para criar esse conjunto com um conjunto de par\u00e2metros $a$, $b$ e $c$ arbitrariamente escolhidos.\n",
      "\n",
      "Assim, <code>x_sample</code> representa os $\\{x_i\\}$ da amostragem, e o tomamos como uma distribui\u00e7\u00e3o linear de um intervalo tamb\u00e9m arbitr\u00e1rio (neste exemplo, de -3 a +3). Analogamente, <code>y_sample</code> representa $\\{y_i\\}$, sendo que fazemos $y_i = \\sigma(x_i) + \\epsilon$, onde $\\epsilon$ \u00e9 um n\u00famero aleat\u00f3rio, mas pequeno quando comparado com $\\left|\\max(\\{y_i\\})-\\min(\\{y_i\\})\\right|$. $\\epsilon$, que \u00e9 obtido por interm\u00e9dio da fun\u00e7\u00e3o <code>rand</code>, emula a incerteza nos dados da amostragem."
     ]
    },
    {
     "cell_type": "code",
     "collapsed": false,
     "input": [
      "a = 1 # Escolhemos os tr\u00eas par\u00e2metros do modelo\n",
      "b = 3\n",
      "c = 1\n",
      "\n",
      "x_sample = linspace(-3,3)\n",
      "y_sample = sigmoid(x_init, a, b, c) + 0.2*rand(len(x_init))"
     ],
     "language": "python",
     "metadata": {},
     "outputs": [],
     "prompt_number": 76
    },
    {
     "cell_type": "markdown",
     "metadata": {},
     "source": [
      "Vamos ver como ficou o conjunto de amostragem:"
     ]
    },
    {
     "cell_type": "code",
     "collapsed": false,
     "input": [
      "scatter(x_sample,y_sample)"
     ],
     "language": "python",
     "metadata": {},
     "outputs": [
      {
       "metadata": {},
       "output_type": "pyout",
       "prompt_number": 77,
       "text": [
        "<matplotlib.collections.PathCollection at 0x7f73446f3610>"
       ]
      },
      {
       "metadata": {},
       "output_type": "display_data",
       "png": "[encoded data removed]",
       "text": [
        "<matplotlib.figure.Figure at 0x7f734491a110>"
       ]
      }
     ],
     "prompt_number": 77
    },
    {
     "cell_type": "heading",
     "level": 2,
     "metadata": {},
     "source": [
      "Ajuste do modelo \u00e0 amostragem"
     ]
    },
    {
     "cell_type": "markdown",
     "metadata": {},
     "source": [
      "A fun\u00e7\u00e3o <code>curve_fit</code> usa o m\u00e9todo dos m\u00ednimos quadrados para ajustar a sigm\u00f3ide aos dados <code>(x_sample, y_sample)</code> $\\equiv \\left(\\{x_i\\},\\{y_i\\}\\right)$. Para isso, ela precisa de um valor inicial dos par\u00e2metros $a$, $b$ e $c$, definidos no vetor <code>my_gess</code>. Note que o algoritmo \u00e9 sens\u00edvel \u00e0 escolha desses valores iniciais, de modo que \u00e0s vezes ele n\u00e3o consegue resolver o problema."
     ]
    },
    {
     "cell_type": "code",
     "collapsed": false,
     "input": [
      "my_gess = [0, 1.5, 1]\n",
      "params, covar = curve_fit(sigmoid, x_init, y_init, p0=guess)\n",
      "print \"Os par\u00e2metros, segundo o ajuste: [a b c] = \" + str(params)\n",
      "print \"Desvio padr\u00e3o de cada par\u00e2metro: \" + str(sqrt(diag(covar)))"
     ],
     "language": "python",
     "metadata": {},
     "outputs": [
      {
       "output_type": "stream",
       "stream": "stdout",
       "text": [
        "Os par\u00e2metros, segundo o ajuste: [a b c] = [ 1.10370248  3.02036263  1.00091519]\n",
        "Desvio padr\u00e3o de cada par\u00e2metro: [ 0.01005901  0.23184907  0.03508029]\n"
       ]
      }
     ],
     "prompt_number": 78
    },
    {
     "cell_type": "markdown",
     "metadata": {},
     "source": [
      "Compare os valores de $a$, $b$ e $c$ acima, obtidos por <code>curve_fit</code>, com aqueles definidos mais acima, aos criarmos as amostras.\n",
      "\n",
      "Para terminar, vamos comparar as amostras (em azul) com o ajuste do modelo (em vermelho):"
     ]
    },
    {
     "cell_type": "code",
     "collapsed": false,
     "input": [
      "y_adjusted = sigmoid(x_sample, params[0], params[1], params[2])\n",
      "plot(x_sample, y_adjusted, color=\"red\")\n",
      "scatter(x_sample, y_sample)"
     ],
     "language": "python",
     "metadata": {},
     "outputs": [
      {
       "metadata": {},
       "output_type": "pyout",
       "prompt_number": 79,
       "text": [
        "<matplotlib.collections.PathCollection at 0x7f734491aa10>"
       ]
      },
      {
       "metadata": {},
       "output_type": "display_data",
       "png": "[encoded data removed]",
       "text": [
        "<matplotlib.figure.Figure at 0x7f734491a7d0>"
       ]
      }
     ],
     "prompt_number": 79
    },
    {
     "cell_type": "code",
     "collapsed": false,
     "input": [],
     "language": "python",
     "metadata": {},
     "outputs": [],
     "prompt_number": 79
    }
   ],
   "metadata": {}
  }
 ]
}