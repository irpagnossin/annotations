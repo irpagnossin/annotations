{
 "metadata": {
  "name": "",
  "signature": "sha256:f3c5a465d06b496f72b43102112552ba4d268244e1310a59803274bc69e57e4c"
 },
 "nbformat": 3,
 "nbformat_minor": 0,
 "worksheets": [
  {
   "cells": [
    {
     "cell_type": "heading",
     "level": 1,
     "metadata": {},
     "source": [
      "Redes neurais no formalismo matricial"
     ]
    },
    {
     "cell_type": "code",
     "collapsed": false,
     "input": [
      "from IPython.display import display, Math, Latex\n",
      "from matplotlib.pyplot import plot\n",
      "import numpy as np\n",
      "\n",
      "%matplotlib inline"
     ],
     "language": "python",
     "metadata": {},
     "outputs": [],
     "prompt_number": 51
    },
    {
     "cell_type": "heading",
     "level": 2,
     "metadata": {},
     "source": [
      "Representa\u00e7\u00e3o dos exemplos e do conjunto de treinamento"
     ]
    },
    {
     "cell_type": "markdown",
     "metadata": {},
     "source": [
      "Suponha que um certo problema mapeie o par\u00e2metro $x$ no par\u00e2metro $y$, ambos conhecidos. O par $(x,y)$ comp\u00f5e o que chamamos de \"exemplo\", pois nossa rede neural o utilizar\u00e1 para aprender, empiricamente, a correla\u00e7\u00e3o entre $x$ e $y$. Esses par\u00e2metros podem ser representados por vetores coluna, de $N_x$ e $N_y$ componentes, respectivamente:\n",
      "$$\n",
      "x = \\left[\\begin{matrix}x_1\\\\x_2\\\\\\vdots\\\\x_{N_y}\\end{matrix}\\right]\\qquad\\text{e}\\qquad\n",
      "y = \\left[\\begin{matrix}y_1\\\\y_2\\\\\\vdots\\\\y_{N_y}\\end{matrix}\\right],\n",
      "$$\n",
      "\n",
      "Mas um exemplo n\u00e3o \u00e9 suficiente para descobrirmos a correla\u00e7\u00e3o entre $x$ e $y$. Precisamos de um **conjunto de treinamento**, ou seja, um agrupamento de $M$ exemplos: $\\{(x_i, y_i)\\}$, com $i = \\{1, 2, \\ldots, M\\}$. Esse conjunto tamb\u00e9m pode ser representado matricialmente, assim:\n",
      "\n",
      "$$X = \\left[\\matrix{\n",
      "| & | & & | \\\\\n",
      "x^1 & x^2 & \\cdots & x^M \\\\\n",
      "| & | & & |\n",
      "}\\right]\\qquad\\text{e}\\qquad\n",
      "Y = \\left[\\matrix{\n",
      "| & | & & | \\\\\n",
      "y^1 & y^2 & \\cdots & y^M \\\\\n",
      "| & | & & |\n",
      "}\\right]$$\n",
      "\n",
      "Aten\u00e7\u00e3o para a nomenclatura: $x$ e $y$ (min\u00fasculos) representam **um** exemplo, isto \u00e9, um elemento do conjunto de treinamento. Por outro lado, $X$ e $Y$ (mai\u00fasculos) representam todo o conjunto de treinamento, composto por $M$ desses exemplos."
     ]
    },
    {
     "cell_type": "heading",
     "level": 2,
     "metadata": {},
     "source": [
      "Representa\u00e7\u00e3o da rede neural"
     ]
    },
    {
     "cell_type": "markdown",
     "metadata": {},
     "source": [
      "Uma rede neural pode ser univocamente representada por um vetor que contenha a quantidade de unidades em cada camada. Por exemplo,"
     ]
    },
    {
     "cell_type": "code",
     "collapsed": false,
     "input": [
      "nns = np.array([2, 3, 1]) # neural network structure\n",
      "\n",
      "L = len(U)\n",
      "print \"Quantidade de camadas da rede neural: \" + str(L)"
     ],
     "language": "python",
     "metadata": {},
     "outputs": [
      {
       "output_type": "stream",
       "stream": "stdout",
       "text": [
        "Quantidade de camadas da rede neural: 3\n"
       ]
      }
     ],
     "prompt_number": 45
    },
    {
     "cell_type": "markdown",
     "metadata": {},
     "source": [
      "representa uma rede neural com $L = 3$ camadas (tamanho do vetor <code>nns</code>): a primeira camada (entrada da rede neural) cont\u00e9m 2 unidades de entrada; a segunda cont\u00e9m 3 e, finalmente, a terceira (sa\u00edda) cont\u00e9m 1. E se chamarmos $U_\\ell$ a quantidade de unidades que pertencem \u00e0 camada $\\ell \\in \\{1,2,\\ldots,L\\}$, ent\u00e3o $U_1 = 2$, $U_2 = 3$ e $U_3 = 1$, neste exemplo.\n",
      "\n",
      "A primeira camada \u00e9 a que recebe as $N_x$ componentes de $x$, ou seja, \u00e9 a nossa porta de entrada para a rede neural. Por isso, $N_x = U_1$ sempre. Analogamente, a \u00faltima camada devolve $N_y$ componentes de $y$, de modo que $N_y = U_L$. Assim, depois que a rede neural estiver treinada, se quisermos descobrir qual \u00e9 o $y$ associado a um $x$ dado e _n\u00e3o necessariamente pertencente ao conjunto de treinamento_, basta inser\u00ed-lo na primeira camada da rede neural e coletar $y$ na sa\u00edda."
     ]
    },
    {
     "cell_type": "heading",
     "level": 2,
     "metadata": {},
     "source": [
      "Como a rede neural determina $y$?"
     ]
    },
    {
     "cell_type": "markdown",
     "metadata": {},
     "source": [
      "Na verdade, esta \u00e9 uma decis\u00e3o sua e a chamamos de [**heur\u00edstica**](http://www.aulete.com.br/heuristica) (cf. o Aulete, \"conjunto de regras e m\u00e9todos para chegar-se \u00e0 inven\u00e7\u00e3o, \u00e0 descoberta ou \u00e0 resolu\u00e7\u00e3o de problemas\"). Outro nome \u00e9 **hip\u00f3tese**. Dito de outra forma, ningu\u00e9m sabe, mas voc\u00ea tem a liberdade de experimentar.\n",
      "\n",
      "Neste exemplo, n\u00f3s usaremos uma heur\u00edstica bastante difundida chamada **regress\u00e3o log\u00edstica**, que caracteriza-se pelo fato de que $y$ s\u00f3 pode assumir os valores zero ou um. Matematicamente, $y \\in \\{0,1\\}$ para qualquer $x$ do dom\u00ednio. Isso pode parcer limitado, mas considere o exemplo de determinar se uma pessoa tem c\u00e2ncer ou n\u00e3o a partir dos resultados de v\u00e1rios exames que ela fez. Neste cen\u00e1rio, $x_i$ seria o resultado do $i$-\u00e9simo exame, $y = 1$ representaria \"sim, ela tem c\u00e2ncer\" e $y = 0$ representaria \"n\u00e3o, ela n\u00e3o tem c\u00e2ncer\".\n",
      "\n",
      "Mas como temos muito mais ferramentas matem\u00e1ticas para lidar com problemas de vari\u00e1veis cont\u00ednuas, \n",
      "\n",
      "Para resolver esse tipo de problema, utilizamos a fun\u00e7\u00e3o [sigmoid](http://mathworld.wolfram.com/SigmoidFunction.html):\n",
      "$$\n",
      "g(x) \\doteq \\frac{1}{1+e^{-x}}.\n",
      "$$\n"
     ]
    },
    {
     "cell_type": "markdown",
     "metadata": {},
     "source": [
      "Em Python fica assim:"
     ]
    },
    {
     "cell_type": "code",
     "collapsed": false,
     "input": [
      "# Sigmoid\n",
      "def g(x):\n",
      "    return 1.0 / (1.0 + np.exp(-x))\n",
      "\n",
      "# Derivada da sigmoid\n",
      "def grad_g(x):\n",
      "    return g(x) * (1.0 - g(x))"
     ],
     "language": "python",
     "metadata": {},
     "outputs": [],
     "prompt_number": 46
    },
    {
     "cell_type": "markdown",
     "metadata": {},
     "source": [
      "Note que aproveitamos para definir tamb\u00e9m sua derivada, $\\partial_x g(x)$, pois precisaremos dela mais \u00e0 frente. Perceba que preferimos utilizar o operador nabla porque $x$ \u00e9, em geral, um vetor. Ou seja, $g(x)$ \u00e9, de fato, uma fun\u00e7\u00e3o de muitas vari\u00e1veis ($N_x$ vari\u00e1veis, para ser mais exato).\n",
      "\n",
      "O gr\u00e1fico de $g(x)$ est\u00e1 desenhado abaixo:"
     ]
    },
    {
     "cell_type": "code",
     "collapsed": false,
     "input": [
      "range = np.arange(-10,10,0.1)\n",
      "plot(range, [g(x) for x in range])"
     ],
     "language": "python",
     "metadata": {},
     "outputs": [
      {
       "metadata": {},
       "output_type": "pyout",
       "prompt_number": 53,
       "text": [
        "[<matplotlib.lines.Line2D at 0x7f73e501d890>]"
       ]
      },
      {
       "metadata": {},
       "output_type": "display_data",
       "png": "[encoded data removed]",
       "text": [
        "<matplotlib.figure.Figure at 0x7f73e51d8150>"
       ]
      }
     ],
     "prompt_number": 53
    },
    {
     "cell_type": "markdown",
     "metadata": {},
     "source": [
      "Neste cen\u00e1rio, o problema que a rede neural deve resolver \u00e9 encontrar $L-1$ matrizes de par\u00e2metros, uma para cada camada, desde a primeira at\u00e9 a pen\u00faltima: $\\Theta^\\ell$. Suas dimens\u00f5es s\u00e3o: $U_{\\ell+1}\\times\\left(U_\\ell+1\\right)$.\n",
      "\n",
      "Assim, no nosso exemplo teremos 2 matrizes $\\Theta$:\n",
      "* $\\Theta^1 \\equiv []_{U_2\\times (U_1+ 1)} = []_{3\\times 3}$\n",
      "* $\\Theta^2 \\equiv []_{U_3\\times (U_2+1)} = []_{1\\times 4}$\n",
      "\n",
      "Ocorre que $\\Theta_1$ \u00e9 a matriz que, atuando sobre $x$, transforma-o num outro vetor, conforme essa transforma\u00e7\u00e3o:\n",
      "\n",
      "Chame $u_\\ell$ de a unidade $u$ da camada $\\ell$. Ent\u00e3o, tomemos, para come\u00e7ar, a unidade 1 da camada 2: $u_2 = 1$. Essa unidade transforma $x$ da seguinte maneira:\n",
      "$$\n",
      "z^2_1 = \\Theta^1_{10} + \\Theta^1_{11} x^1 + \\Theta^{1}_{12} x^2 = \\left[\\begin{matrix}\\Theta^1_{10} &\\Theta^1_{11} & \\Theta^{1}_{12}\\end{matrix}\\right] \\cdot \\left[\\begin{matrix}1\\\\x^1\\\\x^2\\\\\\end{matrix}\\right] = \\Theta^\\ell b^\\ell\n",
      "$$"
     ]
    },
    {
     "cell_type": "heading",
     "level": 1,
     "metadata": {},
     "source": [
      "Valor inicial de $\\Theta$"
     ]
    },
    {
     "cell_type": "markdown",
     "metadata": {},
     "source": [
      "Ent\u00e3o, $\\Theta$ \u00e9 o conjunto de vari\u00e1veis cont\u00ednuas que, segundo nossa hip\u00f3tese (heur\u00edstica), \u00e9 capaz de estabelecer uma rela\u00e7\u00e3o entre $x$ e $y$ utilizando uma regress\u00e3o log\u00edstica linear (??).\n",
      "\n",
      "Criamos um vetor de matrizes $\\Theta$ de comprimento $L - 1$. Visando otimizar o funcionamento do algoritmo, precisamos criar essas matrizes com valores n\u00e3o nulos. Para isso, costuma-se popular as matrizes com valores aleat\u00f3rios, que variam um intervalo $[-\\epsilon_\\ell,+\\epsilon_\\ell]$, sendo que $\\epsilon_\\ell = \\sqrt{6/(u_{l} + u_{l+1})}$, com $\\ell \\in \\{0, 1, \\ldots, L-1\\}$."
     ]
    },
    {
     "cell_type": "code",
     "collapsed": false,
     "input": [
      "from numpy.random import random_sample\n",
      "import math\n",
      "\n",
      "thetas = []\n",
      "for l in np.arange(0,L-1):\n",
      "    epsilon = math.sqrt(6/(U[l]+U[l+1])) # Regra de ouro. N\u00e3o sei de onde vem :(\n",
      "    thetas.append(-epsilon + 2 * epsilon * random_sample((U[l+1],U[l] + 1))) # Matriz aleat\u00f3ria de dimens\u00f5es U_{l+1} por (U_l + 1)\n",
      "    \n",
      "for l in np.arange(0, L-1):\n",
      "    print \"Theta_\" + str(l) + \" =\\n\" + str(thetas[l])"
     ],
     "language": "python",
     "metadata": {},
     "outputs": [
      {
       "output_type": "stream",
       "stream": "stdout",
       "text": [
        "Theta_0 =\n",
        "[[ 0.50346613 -0.05466565 -0.28574193]\n",
        " [-0.83087435  0.9928158   0.4998383 ]\n",
        " [-0.76309022 -0.31771149 -0.42150493]]\n",
        "Theta_1 =\n",
        "[[ 0.04489667 -0.39520445 -0.66300276  0.11190753]]\n"
       ]
      }
     ],
     "prompt_number": 54
    },
    {
     "cell_type": "markdown",
     "metadata": {},
     "source": [
      "Esses s\u00e3o os par\u00e2metros que realizam a m\u00e1gica da rede neural.\n",
      "\n",
      "Deste modo, definimos uma posi\u00e7\u00e3o arbitr\u00e1ria no espa\u00e7o hiperdimensional dos par\u00e2metros $\\Theta$. A partir daqui, nosso objetivo \u00e9 percorrer a superf\u00edcie $J(\\Theta)$ procurando seu m\u00ednimo."
     ]
    },
    {
     "cell_type": "code",
     "collapsed": false,
     "input": [
      "import operator\n",
      "n_params = reduce(operator.add, map(np.size, thetas))\n",
      "print \"Quantidade de par\u00e2metros que precisamos ajustar: \" + str(n_params)"
     ],
     "language": "python",
     "metadata": {},
     "outputs": [
      {
       "output_type": "stream",
       "stream": "stdout",
       "text": [
        "Quantidade de par\u00e2metros que precisamos ajustar: 13\n"
       ]
      }
     ],
     "prompt_number": 28
    },
    {
     "cell_type": "heading",
     "level": 1,
     "metadata": {},
     "source": [
      "Passo X: $X$ e $y$"
     ]
    },
    {
     "cell_type": "markdown",
     "metadata": {},
     "source": [
      "Para este tutorial, vamos definir:\n",
      "\n",
      "$$\n",
      "f : \\mathcal{R}^2 \\to \\mathcal{R}\\\\\n",
      "y = f(x_1,x_2) = \\left(x_1 - 1/2\\right)^2 + (y - 1)^2\n",
      "$$\n",
      "\n",
      "Perceba que este \u00e9 um problema que se encaixa na rede neural $s$, que definimos anteriormente. Isto \u00e9, temos dois par\u00e2metros de entrada ($x_1$ e $x_2$) e um de sa\u00edda [$y \\equiv f(x_1,x_2)$]."
     ]
    },
    {
     "cell_type": "code",
     "collapsed": false,
     "input": [
      "def f(x,y):\n",
      "    return (x - 0.5)**2 + (y - 1)**2"
     ],
     "language": "python",
     "metadata": {},
     "outputs": [],
     "prompt_number": 29
    },
    {
     "cell_type": "markdown",
     "metadata": {},
     "source": [
      "Mas a rede n\u00e3o conhece $f$. Tudo que ela receber\u00e1 \u00e9 um conjunto de pares $(x_1,x_2)$, cada qual associado a um $y$. Vamos criar esse conjunto por meio de uma malha de pontos no plano $x_1 \\times x_2$:"
     ]
    },
    {
     "cell_type": "code",
     "collapsed": false,
     "input": [
      "X = np.transpose([[x,y] for x in range(-2,2) for y in range(-2,2)])\n",
      "print X"
     ],
     "language": "python",
     "metadata": {},
     "outputs": [
      {
       "output_type": "stream",
       "stream": "stdout",
       "text": [
        "[[-2 -2 -2 -2 -1 -1 -1 -1  0  0  0  0  1  1  1  1]\n",
        " [-2 -1  0  1 -2 -1  0  1 -2 -1  0  1 -2 -1  0  1]]\n"
       ]
      }
     ],
     "prompt_number": 30
    },
    {
     "cell_type": "markdown",
     "metadata": {},
     "source": [
      "Note que o conjunto de treinamento cont\u00e9m $M$ exemplos, isto \u00e9, temos $M$ ternos $(x_1,x_2,y)$ conhecidos. Usaremos eles para treinar a rede neural."
     ]
    },
    {
     "cell_type": "code",
     "collapsed": false,
     "input": [
      "M = X.shape[1]\n",
      "print \"M = \" + str(M)"
     ],
     "language": "python",
     "metadata": {},
     "outputs": [
      {
       "output_type": "stream",
       "stream": "stdout",
       "text": [
        "M = 16\n"
       ]
      }
     ],
     "prompt_number": 31
    },
    {
     "cell_type": "markdown",
     "metadata": {},
     "source": [
      "Agora, determinamos os $y$ associados:"
     ]
    },
    {
     "cell_type": "code",
     "collapsed": false,
     "input": [
      "def f(x,y):\n",
      "    return (x - 0.5)**2 + (y - 1)**2\n",
      "\n",
      "y = []\n",
      "for i in range(0,M):\n",
      "    x1, x2 = X[0,i], X[1,i]\n",
      "    y.append(f(x1,x2))\n",
      "    \n",
      "y = np.array(y)\n",
      "print y"
     ],
     "language": "python",
     "metadata": {},
     "outputs": [
      {
       "output_type": "stream",
       "stream": "stdout",
       "text": [
        "[ 15.25  10.25   7.25   6.25  11.25   6.25   3.25   2.25   9.25   4.25\n",
        "   1.25   0.25   9.25   4.25   1.25   0.25]\n"
       ]
      }
     ],
     "prompt_number": 32
    },
    {
     "cell_type": "markdown",
     "metadata": {},
     "source": [
      "Em tempo, perceba ainda que cada exemplo \u00e9 composto por um valor de entrada, composto por $N = 2 = U_1$ par\u00e2metros:"
     ]
    },
    {
     "cell_type": "code",
     "collapsed": false,
     "input": [
      "N = X.shape[0]\n",
      "print \"N = \" + str(N)"
     ],
     "language": "python",
     "metadata": {},
     "outputs": [
      {
       "output_type": "stream",
       "stream": "stdout",
       "text": [
        "N = 2\n"
       ]
      }
     ],
     "prompt_number": 33
    },
    {
     "cell_type": "markdown",
     "metadata": {},
     "source": [
      "Al\u00e9m disso, cada valor de sa\u00edda \u00e9 composto por $U_L = 1$ par\u00e2metros (pois $y$ \u00e9 um vetor de n\u00fameros)."
     ]
    },
    {
     "cell_type": "heading",
     "level": 2,
     "metadata": {},
     "source": [
      "A fun\u00e7\u00e3o erro $J(\\Theta)$ e sua derivada $\\partial_\\Theta J$"
     ]
    },
    {
     "cell_type": "markdown",
     "metadata": {},
     "source": [
      "O algoritmo \"gradient descent\" (gradiente descendente) percorre a hipersuperf\u00edcie $J(\\Theta)$ procurando seu m\u00ednimo absoluto. Para isso, al\u00e9m do pr\u00f3prio valor de $J$, o algoritmo precisa da sua derivada $\\partial_\\Theta J$."
     ]
    },
    {
     "cell_type": "heading",
     "level": 3,
     "metadata": {},
     "source": [
      "_Feedforward_"
     ]
    },
    {
     "cell_type": "markdown",
     "metadata": {},
     "source": [
      "\"Feedforward\" \u00e9 o procedimento para determinar o custo, ou erro, do ajuste caracterizado por $\\Theta$, ou seja, $J(\\Theta)$. Para isso, determine $a_\\ell$, $b_\\ell$ e $z_\\ell$ iterativamente, conforme as express\u00f5es abaixo:\n",
      "* $a^\\ell = \\begin{cases}X& \\text{se }\\ell = 1\\\\ g(z^\\ell) & \\text{se }\\ell > 1\\end{cases} \\equiv []_{U_\\ell\\times M}$\n",
      "* $b^\\ell = \\left[\\matrix{1\\\\a^\\ell}\\right] \\equiv []_{(U_\\ell+1)\\times M}$\n",
      "* $z^{\\ell+1} = \\Theta^{\\ell} b^{\\ell} \\equiv []_{U_\\ell\\times M}$\n",
      "\n",
      "Ap\u00f3s isso, determine $\\alpha = - Y \\odot \\log\\left[z^L\\right] - (1-Y) \\odot \\log\\left[1-z^L\\right] \\equiv []_{U_L\\times M}$ e, finalmente, $J(\\Theta) = \\frac{1}{M}\\text{sum}(\\alpha) + \\frac{\\lambda}{2M} \\textrm{sum}\\left(\\Theta_\\ell^2\\right)$.\n",
      "\n",
      "$\\odot$ \u00e9 o operador de multiplica\u00e7\u00e3o elemento-a-elemento e $\\text{sum}(\\alpha)$ soma todos os elementos de $\\alpha$. Note que, na express\u00e3o de $\\alpha$, $1$ \u00e9 a matriz identidade de dimens\u00f5es iguais \u00e0 de $Y$. $g(x) \\doteq 1/\\left(1 + e^{-x}\\right)$ \u00e9 a fun\u00e7\u00e3o \"sigmoid\"."
     ]
    },
    {
     "cell_type": "markdown",
     "metadata": {},
     "source": [
      "* Come\u00e7ando com $\\ell = 0$, calculamos $a_0 = X$, uma matriz de dimens\u00f5es $U_0 \\times M$. Ela representa os par\u00e2metros que s\u00e3o inseridos na rede, isto \u00e9, que incidem na camada $\\ell = 0$. Em seguida, constru\u00edmos a matriz $b_0$, acrescentando uma linha de 1 no topo de $a_0$. Essa matriz, de dimens\u00e3o $(U_0 + 1)\\times M$, representa os par\u00e2metros que, emergindo da camada $\\ell = 0$, incidem na camada $\\ell = 1$."
     ]
    },
    {
     "cell_type": "heading",
     "level": 2,
     "metadata": {},
     "source": [
      "_Back propagation_"
     ]
    },
    {
     "cell_type": "markdown",
     "metadata": {},
     "source": [
      "\"Back propagation\" \u00e9 o procedimento usado para determinar o gradiente de $J(\\Theta)$. Para isso, efetue os c\u00e1lculos abaixo iterativamente, da \u00faltima camada ($\\ell = L$) para a primeira ($\\ell = 1$)."
     ]
    },
    {
     "cell_type": "markdown",
     "metadata": {},
     "source": [
      "* $\\delta^\\ell = \\begin{cases}z^L - Y & \\text{se } \\ell = L \\\\\\left(\\Xi^\\ell\\right)^T \\delta^{\\ell+1} \\odot g'(z^\\ell)& \\text{se }\\ell < L\\end{cases}$\n",
      "* $\\partial_{\\Theta_\\ell} J(\\Theta) = \\frac{1}{M}\\delta_{\\ell+1}\\left(b_\\ell\\right)^T + \\frac{\\lambda}{M}\\Xi_\\ell \\equiv []_{U_{\\ell+1}\\times(U_\\ell+1)}$\n",
      "\n",
      "para $\\ell = L, L-1, \\ldots, 2$ (n\u00e3o existe $\\delta^1$). $\\Xi^\\ell = \\Theta^\\ell(:,2:\\text{end})$ \u00e9 a pr\u00f3pria matriz $\\Theta^\\ell$, s\u00f3 que sem a primeira **coluna**."
     ]
    },
    {
     "cell_type": "heading",
     "level": 1,
     "metadata": {},
     "source": [
      "Implementa\u00e7\u00e3o do feedforward e do back propagation"
     ]
    },
    {
     "cell_type": "markdown",
     "metadata": {},
     "source": [
      "Abaixo, a implementa\u00e7\u00e3o da fun\u00e7\u00e3o $J(\\Theta, X, y, \\lambda)$, que retorna o par $(J, \\partial_{\\Theta} J)$. $\\lambda$ \u00e9 o par\u00e2metro de regulariza\u00e7\u00e3o, cuja fun\u00e7\u00e3o \u00e9 priorizar ajustes com par\u00e2metros de menor ordem."
     ]
    },
    {
     "cell_type": "code",
     "collapsed": false,
     "input": [
      "def stack_ones(a):\n",
      "    ones = np.ones(1 if a.size == a.shape[0] else a.shape[1]) # TODO: tem um jeito melhor?\n",
      "    return np.vstack((ones, a))\n",
      "    \n",
      "def J(thetas, X, y, lamb):\n",
      "    zs = [1] # Esse 1 s\u00f3 serve para preencher\n",
      "    bs = []\n",
      "    reg = 0\n",
      "    \n",
      "    # Determina a fun\u00e7\u00e3o de custo do ajuste caracterizado pelos par\u00e2metros thetas\n",
      "    for layer in range(0, L-1):\n",
      "        a = X if layer == 0 else g(zs[layer])\n",
      "        b = stack_ones(a)\n",
      "        bs.append(b)\n",
      "        z = np.dot(thetas[layer], b)\n",
      "        zs.append(z)\n",
      "        reg = reg + np.power(thetas[layer][:,1:], 2).sum() # Regulariza\u00e7\u00e3o de J\n",
      "    \n",
      "    reg = reg * lamb / (2 * M)\n",
      "    Z = g(zs[L-1])\n",
      "    J = -(y * np.log(Z) + (1-y) * np.log(1-Z)).sum() / M + reg\n",
      "    \n",
      "    # Determina o gradiente de thetas\n",
      "    ds = [0 for _ in range(0,L)]\n",
      "    grad_J = [0 for _ in range(0,L-1)]\n",
      "    \n",
      "    for layer in range(L-1, -1, -1):\n",
      "        \n",
      "        if layer == L-1:\n",
      "            ds[layer] = zs[layer] - y\n",
      "        else:\n",
      "            xsi = np.delete(thetas[layer], 0, 1).T\n",
      "            ds[layer] = np.dot(xsi, ds[layer+1]) * grad_g(zs[layer])\n",
      "                \n",
      "        if layer < L-1:\n",
      "            grad_J[layer] = np.dot(ds[layer+1], bs[layer].T) / M\n",
      "            grad_J[layer][:,1:] = grad_J[layer][:,1:] + lamb/M * thetas[layer][:,1:] # Regulariza\u00e7\u00e3o de grad_J\n",
      "            \n",
      "    return (J, grad_J)"
     ],
     "language": "python",
     "metadata": {},
     "outputs": [],
     "prompt_number": 35
    },
    {
     "cell_type": "code",
     "collapsed": false,
     "input": [
      "from scipy.optimize import fmin_bfgs\n",
      "\n",
      "def cost_function(theta):\n",
      "    cost, grad = J(theta, X, y, 0)\n",
      "    return cost\n",
      "\n",
      "def grad_cost(theta):\n",
      "    cost, grad = J(theta, X, y, 0)\n",
      "    return grad\n",
      "\n",
      "trained_thetas = fmin_bfgs(cost_function, thetas, maxiter=100)"
     ],
     "language": "python",
     "metadata": {},
     "outputs": [
      {
       "ename": "ValueError",
       "evalue": "operands could not be broadcast together with shapes (3,3) (1,4) ",
       "output_type": "pyerr",
       "traceback": [
        "\u001b[1;31m---------------------------------------------------------------------------\u001b[0m\n\u001b[1;31mValueError\u001b[0m                                Traceback (most recent call last)",
        "\u001b[1;32m<ipython-input-43-29f4d8674575>\u001b[0m in \u001b[0;36m<module>\u001b[1;34m()\u001b[0m\n\u001b[0;32m      9\u001b[0m     \u001b[1;32mreturn\u001b[0m \u001b[0mgrad\u001b[0m\u001b[1;33m\u001b[0m\u001b[0m\n\u001b[0;32m     10\u001b[0m \u001b[1;33m\u001b[0m\u001b[0m\n\u001b[1;32m---> 11\u001b[1;33m \u001b[0mtrained_thetas\u001b[0m \u001b[1;33m=\u001b[0m \u001b[0mfmin_bfgs\u001b[0m\u001b[1;33m(\u001b[0m\u001b[0mcost_function\u001b[0m\u001b[1;33m,\u001b[0m \u001b[0mthetas\u001b[0m\u001b[1;33m,\u001b[0m \u001b[0mmaxiter\u001b[0m\u001b[1;33m=\u001b[0m\u001b[1;36m100\u001b[0m\u001b[1;33m)\u001b[0m\u001b[1;33m\u001b[0m\u001b[0m\n\u001b[0m",
        "\u001b[1;32m/usr/lib/python2.7/dist-packages/scipy/optimize/optimize.pyc\u001b[0m in \u001b[0;36mfmin_bfgs\u001b[1;34m(f, x0, fprime, args, gtol, norm, epsilon, maxiter, full_output, disp, retall, callback)\u001b[0m\n\u001b[0;32m    775\u001b[0m             'return_all': retall}\n\u001b[0;32m    776\u001b[0m \u001b[1;33m\u001b[0m\u001b[0m\n\u001b[1;32m--> 777\u001b[1;33m     \u001b[0mres\u001b[0m \u001b[1;33m=\u001b[0m \u001b[0m_minimize_bfgs\u001b[0m\u001b[1;33m(\u001b[0m\u001b[0mf\u001b[0m\u001b[1;33m,\u001b[0m \u001b[0mx0\u001b[0m\u001b[1;33m,\u001b[0m \u001b[0margs\u001b[0m\u001b[1;33m,\u001b[0m \u001b[0mfprime\u001b[0m\u001b[1;33m,\u001b[0m \u001b[0mcallback\u001b[0m\u001b[1;33m=\u001b[0m\u001b[0mcallback\u001b[0m\u001b[1;33m,\u001b[0m \u001b[1;33m**\u001b[0m\u001b[0mopts\u001b[0m\u001b[1;33m)\u001b[0m\u001b[1;33m\u001b[0m\u001b[0m\n\u001b[0m\u001b[0;32m    778\u001b[0m \u001b[1;33m\u001b[0m\u001b[0m\n\u001b[0;32m    779\u001b[0m     \u001b[1;32mif\u001b[0m \u001b[0mfull_output\u001b[0m\u001b[1;33m:\u001b[0m\u001b[1;33m\u001b[0m\u001b[0m\n",
        "\u001b[1;32m/usr/lib/python2.7/dist-packages/scipy/optimize/optimize.pyc\u001b[0m in \u001b[0;36m_minimize_bfgs\u001b[1;34m(fun, x0, args, jac, callback, gtol, norm, eps, maxiter, disp, return_all, **unknown_options)\u001b[0m\n\u001b[0;32m    878\u001b[0m \u001b[1;33m\u001b[0m\u001b[0m\n\u001b[0;32m    879\u001b[0m         \u001b[1;32mtry\u001b[0m\u001b[1;33m:\u001b[0m  \u001b[1;31m# this was handled in numeric, let it remaines for more safety\u001b[0m\u001b[1;33m\u001b[0m\u001b[0m\n\u001b[1;32m--> 880\u001b[1;33m             \u001b[0mrhok\u001b[0m \u001b[1;33m=\u001b[0m \u001b[1;36m1.0\u001b[0m \u001b[1;33m/\u001b[0m \u001b[1;33m(\u001b[0m\u001b[0mnumpy\u001b[0m\u001b[1;33m.\u001b[0m\u001b[0mdot\u001b[0m\u001b[1;33m(\u001b[0m\u001b[0myk\u001b[0m\u001b[1;33m,\u001b[0m \u001b[0msk\u001b[0m\u001b[1;33m)\u001b[0m\u001b[1;33m)\u001b[0m\u001b[1;33m\u001b[0m\u001b[0m\n\u001b[0m\u001b[0;32m    881\u001b[0m         \u001b[1;32mexcept\u001b[0m \u001b[0mZeroDivisionError\u001b[0m\u001b[1;33m:\u001b[0m\u001b[1;33m\u001b[0m\u001b[0m\n\u001b[0;32m    882\u001b[0m             \u001b[0mrhok\u001b[0m \u001b[1;33m=\u001b[0m \u001b[1;36m1000.0\u001b[0m\u001b[1;33m\u001b[0m\u001b[0m\n",
        "\u001b[1;31mValueError\u001b[0m: operands could not be broadcast together with shapes (3,3) (1,4) "
       ]
      }
     ],
     "prompt_number": 43
    },
    {
     "cell_type": "code",
     "collapsed": false,
     "input": [
      "trained_thetas"
     ],
     "language": "python",
     "metadata": {},
     "outputs": [
      {
       "metadata": {},
       "output_type": "pyout",
       "prompt_number": 37,
       "text": [
        "array([ array([[-0.34167721,  0.24039915, -0.68358303],\n",
        "       [-0.4964911 ,  0.26256175, -0.33067524],\n",
        "       [ 0.40057997, -0.36521705,  0.36265823]]),\n",
        "       array([[ 11.2444133 ,  10.17116367,  10.39128689,  11.4790935 ]])], dtype=object)"
       ]
      }
     ],
     "prompt_number": 37
    },
    {
     "cell_type": "code",
     "collapsed": false,
     "input": [
      "def predict(x, theta):\n",
      "    for layer in range(0, L-1):\n",
      "        a = x if layer == 0 else g(z)\n",
      "        z = np.dot(theta[layer], stack_ones(a))\n",
      "        \n",
      "    return g(z)"
     ],
     "language": "python",
     "metadata": {},
     "outputs": [],
     "prompt_number": 38
    },
    {
     "cell_type": "code",
     "collapsed": false,
     "input": [
      "x = np.array([[-2],\n",
      "              [-2]])\n",
      "y = predict(x, trained_thetas)\n",
      "y"
     ],
     "language": "python",
     "metadata": {},
     "outputs": [
      {
       "metadata": {},
       "output_type": "pyout",
       "prompt_number": 39,
       "text": [
        "array([[ 1.]])"
       ]
      }
     ],
     "prompt_number": 39
    },
    {
     "cell_type": "code",
     "collapsed": false,
     "input": [],
     "language": "python",
     "metadata": {},
     "outputs": [],
     "prompt_number": 39
    }
   ],
   "metadata": {}
  }
 ]
}