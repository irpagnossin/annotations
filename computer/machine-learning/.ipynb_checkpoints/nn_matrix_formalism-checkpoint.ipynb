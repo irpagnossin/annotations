{
 "metadata": {
  "name": "",
  "signature": "sha256:8733e61e4b6393bdbce06b61287180f9bc54c5fecd97507ad422f9fb4ce5a3b5"
 },
 "nbformat": 3,
 "nbformat_minor": 0,
 "worksheets": [
  {
   "cells": [
    {
     "cell_type": "heading",
     "level": 1,
     "metadata": {},
     "source": [
      "Redes neurais no formalismo matricial"
     ]
    },
    {
     "cell_type": "code",
     "collapsed": false,
     "input": [
      "from IPython.display import display, Math, Latex\n",
      "import numpy as np"
     ],
     "language": "python",
     "metadata": {},
     "outputs": [],
     "prompt_number": 20
    },
    {
     "cell_type": "markdown",
     "metadata": {},
     "source": [
      "\n",
      "O conjunto de treinamento da rede neural \u00e9 representado pelas matrizes $X_{N\\times M}$ e $Y_{K\\times M}$. $N$ \u00e9 a quantidade de par\u00e2metros que representa um valor de entrada, enquanto $K$ \u00e9 a quantidade de par\u00e2metros que representa um valor de sa\u00edda. $M$ \u00e9 o tamanho do conjunto de treinamento.\n",
      "\n",
      "Suponha que $x$ \u00e9 um vetor (tamanho $N$) que representa *um* exemplo de entrada, enquanto $y$ (tamanho $K$) representa o exemplo de sa\u00edda associado a $x$. Ent\u00e3o,\n",
      " \n",
      "$$X = \\left[\\matrix{\n",
      "| & | & & | \\\\\n",
      "x^1 & x^2 & \\cdots & x^M \\\\\n",
      "| & | & & |\n",
      "}\\right]\\qquad\\text{e}\\qquad\n",
      "Y = \\left[\\matrix{\n",
      "| & | & & | \\\\\n",
      "y^1 & y^2 & \\cdots & y^M \\\\\n",
      "| & | & & |\n",
      "}\\right]$$\n",
      "\n",
      "Assim, queremos construir uma rede neural que, para um dado $x$ de entrada, consiga responder com o $y$ associado, sempre que poss\u00edvel (sempre existe a chance de haver erro). A estrutura dessa rede neural pode ser facilmente representada por um vetor que contenha a quantidade de unidades em cada camada. Por exemplo, $s = \\left[35, 20, 10\\right]$ \u00e9 uma rede neural com 3 camadas (tamanho do vetor $s$): a primeira camada --- a de entrada --- cont\u00e9m 35 unidades de entrada; a segunda cont\u00e9m 20 e, finalmente, a terceira (sa\u00edda) cont\u00e9m 10. Neste exemplo, podemos imediatamente concluir que $N = 35$, pois este \u00e9 o tamanho do vetor $x$, que precisa ser inserido na primeira camada. Analogamente, $K = 10$, pois esse \u00e9 o tamanho do vetor $y$."
     ]
    },
    {
     "cell_type": "code",
     "collapsed": false,
     "input": [
      "s = np.array([35, 20, 10])"
     ],
     "language": "python",
     "metadata": {},
     "outputs": [],
     "prompt_number": 30
    },
    {
     "cell_type": "markdown",
     "metadata": {},
     "source": [
      "$L$ \u00e9 a quantidade de camadas da rede neural. No exemplo acima, $L = 3$. $\\ell$ \u00e9 o \u00edndice que identifica cada uma dessas camadas, desde 1 at\u00e9 $L$ (*aten\u00e7\u00e3o* para o in\u00edcio do \u00edndice em 1). Deste modo, $\\ell \\in \\{1,2,3\\}$ no exemplo anterior. $U_\\ell$ \u00e9 a quantidade de unidades da camada $\\ell$. Por exemplo, $U_1 = 35$, $U_2 = 20$ e $U_3 = 10$.\n",
      "\n",
      "Segue imediatamente dessa nomenclatura que $U_1 \\equiv N$ e $U_L \\equiv K$."
     ]
    },
    {
     "cell_type": "code",
     "collapsed": false,
     "input": [
      "L = len(s)\n",
      "print L"
     ],
     "language": "python",
     "metadata": {},
     "outputs": [
      {
       "output_type": "stream",
       "stream": "stdout",
       "text": [
        "3\n"
       ]
      }
     ],
     "prompt_number": 31
    },
    {
     "cell_type": "heading",
     "level": 2,
     "metadata": {},
     "source": [
      "Preparando o terreno"
     ]
    },
    {
     "cell_type": "markdown",
     "metadata": {},
     "source": [
      "Neste cen\u00e1rio, o problema que a rede neural deve resolver \u00e9 encontrar $L-1$ matrizes de par\u00e2metros, uma para cada camada, desde a primeira at\u00e9 a pen\u00faltima: $\\Theta^\\ell$. A dimens\u00e3o de uma tal matriz deve ser $U_{\\ell+1}\\times\\left(U_\\ell+1\\right)$.\n",
      "\n",
      "Assim, no nosso exemplo teremos 2 matrizes $\\Theta$:\n",
      "* $\\Theta^1 \\equiv []_{U_2\\times (U_1+ 1)} = []_{20\\times 36}$\n",
      "* $\\Theta^2 \\equiv []_{U_3\\times (U_2+1)} = []_{10\\times 21}$"
     ]
    },
    {
     "cell_type": "heading",
     "level": 2,
     "metadata": {},
     "source": [
      "_Feedforward_"
     ]
    },
    {
     "cell_type": "markdown",
     "metadata": {},
     "source": [
      "O procedimento para determinar $J(\\Theta)$, isto \u00e9, a fun\u00e7\u00e3o custo (ou erro):\n",
      "\n",
      "* $a^\\ell = \\begin{cases}X& \\text{se }\\ell = 1\\\\ g(z^\\ell) & \\text{se }\\ell > 1\\end{cases} \\equiv []_{U_\\ell\\times M}$\n",
      "* $b^\\ell = \\left[\\matrix{1\\\\a^\\ell}\\right] \\equiv []_{(U_\\ell+1)\\times M}$\n",
      "* $z^{\\ell+1} = \\Theta^{\\ell} b^{\\ell} \\equiv []_{U_\\ell\\times M}$\n",
      "\n",
      "Com isso, $\\alpha = - Y \\odot \\log\\left(z^L\\right) - (1-Y) \\odot \\log\\left(1-z^L\\right) \\equiv []_{U_L\\times M}$ e $J(\\Theta) = \\frac{1}{M}\\text{sum}(\\alpha(:))$. $\\odot$ \u00e9 o operador de multiplica\u00e7\u00e3o elemento-a-elemento. Note que, na express\u00e3o de $\\alpha$, $1$ \u00e9 a matriz identidade de dimens\u00f5es iguais \u00e0 de $Y$."
     ]
    },
    {
     "cell_type": "heading",
     "level": 2,
     "metadata": {},
     "source": [
      "_Back propagation_"
     ]
    },
    {
     "cell_type": "markdown",
     "metadata": {},
     "source": [
      "* $\\delta^\\ell = \\begin{cases}z^L - Y & \\text{se } \\ell = L \\\\\\left(\\Xi^\\ell\\right)^T \\delta^{\\ell+1} \\odot g'(z^\\ell)& \\text{se }\\ell < L\\end{cases}$\n",
      "* $\\partial_{\\Theta^\\ell} J(\\Theta) = \\frac{1}{M}\\delta^{\\ell+1}\\left(b^\\ell\\right)^T \\equiv []_{U_{\\ell+1}\\times(U_\\ell+1)}$\n",
      "\n",
      "para $\\ell = L, L-1, \\ldots, 2$ (n\u00e3o existe $\\delta^1$). $\\Xi^\\ell = \\Theta^\\ell(:,2:\\text{end})$ \u00e9 a pr\u00f3pria matriz $\\Theta^\\ell$, s\u00f3 que sem a primeira **coluna**."
     ]
    },
    {
     "cell_type": "code",
     "collapsed": false,
     "input": [],
     "language": "python",
     "metadata": {},
     "outputs": []
    }
   ],
   "metadata": {}
  }
 ]
}