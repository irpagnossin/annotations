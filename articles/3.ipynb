{
 "metadata": {
  "name": "",
  "signature": "sha256:d1746a297b3709678cee63b3ea886f43eac00902508d6e9b870903b92805f541"
 },
 "nbformat": 3,
 "nbformat_minor": 0,
 "worksheets": [
  {
   "cells": [
    {
     "cell_type": "markdown",
     "metadata": {},
     "source": [
      "Do que precisamos antes de come\u00e7ar..."
     ]
    },
    {
     "cell_type": "code",
     "collapsed": false,
     "input": [
      "from scipy.integrate import odeint\n",
      "from IPython.display import display, Math, Latex\n",
      "%pylab\n",
      "%matplotlib inline"
     ],
     "language": "python",
     "metadata": {},
     "outputs": [
      {
       "output_type": "stream",
       "stream": "stdout",
       "text": [
        "Using matplotlib backend: TkAgg\n",
        "Populating the interactive namespace from numpy and matplotlib\n"
       ]
      }
     ],
     "prompt_number": 2
    },
    {
     "cell_type": "markdown",
     "metadata": {},
     "source": [
      "Par\u00e2metros do problema: $m$ \u00e9 a massa, $g$ \u00e9 a acelera\u00e7\u00e3o da gravidade, $\\mu_d$ (<code>mu_d</code>) \u00e9 o coeficiente de atrito din\u00e2mico e $k$ \u00e9 a constante el\u00e1stica associada \u00e0 for\u00e7a restauradora."
     ]
    },
    {
     "cell_type": "code",
     "collapsed": false,
     "input": [
      "m = 1 # kg\n",
      "g = 9.8 # m/s\u00b2\n",
      "mu_d = 0.06 # Adimensional\n",
      "k = 2 # N/m"
     ],
     "language": "python",
     "metadata": {},
     "outputs": [],
     "prompt_number": 68
    },
    {
     "cell_type": "markdown",
     "metadata": {},
     "source": [
      "Fun\u00e7\u00e3o degrau adequada para este problema:\n",
      "\\begin{equation*}\n",
      "\\theta(x) = \\left\\{\\begin{matrix}\n",
      "-1 &\\text{ se } x < 0 \\\\\n",
      "0  &\\text{ se } x = 0\\\\\n",
      "+1 &\\text{ se } x >0\n",
      "\\end{matrix}\\right.\n",
      "\\end{equation*}"
     ]
    },
    {
     "cell_type": "code",
     "collapsed": false,
     "input": [
      "def step(x):    \n",
      "    EPS = 0.01\n",
      "    \n",
      "    if (x < -EPS):\n",
      "        ans = -1\n",
      "    else:\n",
      "        if (x > EPS):\n",
      "            ans = +1\n",
      "        else:\n",
      "            ans = 0\n",
      "        \n",
      "    return ans    "
     ],
     "language": "python",
     "metadata": {},
     "outputs": [],
     "prompt_number": 38
    },
    {
     "cell_type": "markdown",
     "metadata": {},
     "source": [
      "Express\u00e3o da for\u00e7a, uma fun\u00e7\u00e3o da posi\u00e7\u00e3o $x$ e da velocidade $v$: $F(x, v) = -kx-\\mu_d m g \\theta(v)$. O primeiro termo \u00e9 a for\u00e7a restauradora; o segundo \u00e9 a for\u00e7a de atrito, conforme aprendemos na din\u00e2mica, isto \u00e9, $F_{\\text{at}} = \\mu_d N$, onde $N = mg$ \u00e9 a normal (no caso em que o plano do movimento \u00e9 horizontal). Note que, com o aux\u00edlio da fun\u00e7\u00e3o $\\theta(x)$, a for\u00e7a de atrito sempre op\u00f5em-se ao movimento."
     ]
    },
    {
     "cell_type": "code",
     "collapsed": false,
     "input": [
      "def F(x, v):\n",
      "    return -k*x-mu_d*m*g*step(v)"
     ],
     "language": "python",
     "metadata": {},
     "outputs": [],
     "prompt_number": 90
    },
    {
     "cell_type": "markdown",
     "metadata": {},
     "source": [
      "O lado direito da equa\u00e7\u00e3o diferencial: $\\dot x = v$ e $\\dot v = F/m$ (compare com os dois elementos devolvidos pela fun\u00e7\u00e3o)."
     ]
    },
    {
     "cell_type": "code",
     "collapsed": false,
     "input": [
      "def oscillator(ic, t):\n",
      "    x = ic[0]\n",
      "    v = ic[1]\n",
      "    return [v, F(x,v)/m]"
     ],
     "language": "python",
     "metadata": {},
     "outputs": [],
     "prompt_number": 6
    },
    {
     "cell_type": "markdown",
     "metadata": {},
     "source": [
      "**Condi\u00e7\u00f5es iniciais** (ie, em $t = 0$): o primeiro elemento \u00e9 a posi\u00e7\u00e3o; o segundo, a velocidade."
     ]
    },
    {
     "cell_type": "code",
     "collapsed": false,
     "input": [
      "ic = [2.9, 0]"
     ],
     "language": "python",
     "metadata": {},
     "outputs": [],
     "prompt_number": 7
    },
    {
     "cell_type": "markdown",
     "metadata": {},
     "source": [
      "Agora, partindo das condi\u00e7\u00f5es iniciais e das fun\u00e7\u00f5es que definem o lado direito do sistema de equa\u00e7\u00f5es diferenciais, a fun\u00e7\u00e3o <code>odeint</code> pode calcular o valor de $x$ e de $v$ em $\\Delta t$, $2\\Delta t$, etc at\u00e9 o instante de tempo desejado [na configura\u00e7\u00e3o abaixo, em <code>linspace</code>, desde $t_0 = 0$ at\u00e9 $t_n = 10$, com uma amostragem de $n = 100$ intervalos $\\Delta t = (t_n - t_0)/n = 0.1$]."
     ]
    },
    {
     "cell_type": "code",
     "collapsed": false,
     "input": [
      "t0 = 0\n",
      "tn = 11.07\n",
      "n = 100\n",
      "t = linspace(t0, tn, n+1)\n",
      "solution = odeint(oscillator, ic, t)"
     ],
     "language": "python",
     "metadata": {},
     "outputs": [],
     "prompt_number": 91
    },
    {
     "cell_type": "markdown",
     "metadata": {},
     "source": [
      "O resultado (<code>solution</code>) da opera\u00e7\u00e3o acima \u00e9 uma matriz contendo os valores de $x$ na primeira coluna e os de $v$ na segunda. Cada valor \u00e9 associado aos valores do vetor <code>t</code>, que representa a evolu\u00e7\u00e3o temporal. Agora podemos desenhar o gr\u00e1fico das solu\u00e7\u00f5es:"
     ]
    },
    {
     "cell_type": "code",
     "collapsed": false,
     "input": [
      "x = solution[:,0]\n",
      "v = solution[:,1]\n",
      "plot(t, x, label=\"$x$\")\n",
      "plot(t, v, label=\"$v$\")\n",
      "forca = [F(xx,vv) for (xx,vv) in zip(x,v)]\n",
      "plot(t, forca, label=\"$F$\")\n",
      "legend()"
     ],
     "language": "python",
     "metadata": {},
     "outputs": [
      {
       "metadata": {},
       "output_type": "pyout",
       "prompt_number": 92,
       "text": [
        "<matplotlib.legend.Legend at 0x6f4b950>"
       ]
      },
      {
       "metadata": {},
       "output_type": "display_data",
       "png": "[encoded data removed]",
       "text": [
        "<matplotlib.figure.Figure at 0x6d75810>"
       ]
      }
     ],
     "prompt_number": 92
    },
    {
     "cell_type": "markdown",
     "metadata": {},
     "source": [
      "Note que, no instante final da simula\u00e7\u00e3o tanto $x$ quanto $v$ s\u00e3o nulos, de modo que $F(x,v) = 0$ a partir dali e a massa oscilante p\u00e1ra. Contudo, essa descontinuidade parece introduzir uma dificuldade num\u00e9rica, pois dali para frente a solu\u00e7\u00e3o *aparentemente* n\u00e3o converge (preciso ainda estudar melhor o que ocorre): o integrador <code>odeint</code> reclama!"
     ]
    },
    {
     "cell_type": "code",
     "collapsed": false,
     "input": [],
     "language": "python",
     "metadata": {},
     "outputs": []
    }
   ],
   "metadata": {}
  }
 ]
}